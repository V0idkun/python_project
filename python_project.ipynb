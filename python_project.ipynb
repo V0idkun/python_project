{
 "cells": [
  {
   "cell_type": "code",
   "execution_count": 75,
   "id": "95f13051-7e15-495e-8251-720e036a97c9",
   "metadata": {},
   "outputs": [
    {
     "name": "stdin",
     "output_type": "stream",
     "text": [
      "enter a operation or exit to cancel //\n",
      "enter the first number 44\n",
      "enter the second number 5\n"
     ]
    },
    {
     "name": "stdout",
     "output_type": "stream",
     "text": [
      "44.0 // 5.0 = 8.0\n"
     ]
    },
    {
     "name": "stdin",
     "output_type": "stream",
     "text": [
      "enter a operation or exit to cancel exit\n"
     ]
    },
    {
     "name": "stdout",
     "output_type": "stream",
     "text": [
      "calculator closed\n"
     ]
    }
   ],
   "source": [
    "calculator_dict = { '+': lambda a,b : [a+b],\n",
    "                    '-':lambda a,b : [a-b],\n",
    "                    '*':lambda a,b : [a*b],\n",
    "                    '/':lambda a,b : [a/b] if b != 0 else 'Not divisible by zero '\n",
    "                            }\n",
    "single_operator_dict = { 'log' : lambda a:math.log(a)\n",
    "    \n",
    "}\n",
    "class Calculator:\n",
    "    def __init__(self,calculator_dict,single_operator_dict):\n",
    "        self.calculator_dict = calculator_dict\n",
    "        self.single_operator_dict = single_operator_dict\n",
    "        \n",
    "    def add_operation(self,symbol,function, single=False):\n",
    "        if single:\n",
    "            self.single_operator_dict[symbol] = function\n",
    "        else:\n",
    "            self.calculator_dict[symbol] = function\n",
    "        \n",
    "        \n",
    "    def calculate(self,symbol,a,b=None):\n",
    "        if symbol in self.calculator_dict:\n",
    "            return self.calculator_dict[symbol](a,b)\n",
    "        elif symbol in self.single_operator_dict:\n",
    "            return self.single_operator_dict[symbol](a)\n",
    "        else:\n",
    "            return 'Error, please input a valid operator'\n",
    "\n",
    "cal = Calculator(calculator_dict,single_operator_dict)\n",
    "cal.add_operation('//', lambda a,b: a//b)\n",
    "cal.add_operation('sqrt',lambda a: math.sqrt(a),single =True)\n",
    "while True:\n",
    "    op = input('enter a operation or exit to cancel')\n",
    "    \n",
    "    if op.lower() == 'exit':\n",
    "        print('calculator closed')\n",
    "        break\n",
    "\n",
    "    if op.lower() in (calculator_dict or single_operator_dict):\n",
    "        try:\n",
    "            if op in calculator_dict:\n",
    "                first_number = float(input('enter the first number'))\n",
    "                second_number = float(input('enter the second number'))\n",
    "                result = cal.calculate(op,first_number,second_number)\n",
    "                print(f'{first_number} {op} {second_number} = {result}')\n",
    "            else:\n",
    "                first_number = float(input('enter the first number'))\n",
    "                result = cal.calculate(op,first_number)\n",
    "                print(f'{op}({first_number}) = {result}')\n",
    "        except ValueError:\n",
    "                print('enter only numbers please')\n",
    "    else:\n",
    "        print('Please enter a valid operator')"
   ]
  },
  {
   "cell_type": "code",
   "execution_count": 50,
   "id": "3f8884d4-3305-41e6-ba95-e0635c23ddc7",
   "metadata": {},
   "outputs": [
    {
     "name": "stdout",
     "output_type": "stream",
     "text": [
      "['__doc__', '__loader__', '__name__', '__package__', '__spec__', 'acos', 'acosh', 'asin', 'asinh', 'atan', 'atan2', 'atanh', 'cbrt', 'ceil', 'comb', 'copysign', 'cos', 'cosh', 'degrees', 'dist', 'e', 'erf', 'erfc', 'exp', 'exp2', 'expm1', 'fabs', 'factorial', 'floor', 'fma', 'fmod', 'frexp', 'fsum', 'gamma', 'gcd', 'hypot', 'inf', 'isclose', 'isfinite', 'isinf', 'isnan', 'isqrt', 'lcm', 'ldexp', 'lgamma', 'log', 'log10', 'log1p', 'log2', 'modf', 'nan', 'nextafter', 'perm', 'pi', 'pow', 'prod', 'radians', 'remainder', 'sin', 'sinh', 'sqrt', 'sumprod', 'tan', 'tanh', 'tau', 'trunc', 'ulp']\n"
     ]
    }
   ],
   "source": [
    "import math\n",
    "print(dir(math))"
   ]
  },
  {
   "cell_type": "code",
   "execution_count": null,
   "id": "3e648416-cb72-4503-900b-af18dfc5dadb",
   "metadata": {},
   "outputs": [],
   "source": []
  }
 ],
 "metadata": {
  "kernelspec": {
   "display_name": "Python 3 (ipykernel)",
   "language": "python",
   "name": "python3"
  },
  "language_info": {
   "codemirror_mode": {
    "name": "ipython",
    "version": 3
   },
   "file_extension": ".py",
   "mimetype": "text/x-python",
   "name": "python",
   "nbconvert_exporter": "python",
   "pygments_lexer": "ipython3",
   "version": "3.13.2"
  }
 },
 "nbformat": 4,
 "nbformat_minor": 5
}
